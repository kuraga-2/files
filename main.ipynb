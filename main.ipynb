{
 "cells": [
  {
   "cell_type": "code",
   "execution_count": 11,
   "metadata": {},
   "outputs": [],
   "source": [
    "import json\n",
    "file = open(\"sw_templates.json\", 'r')\n",
    "data = json.load(file)\n",
    "data['acces+trunk'] = ['switchport mode access',\n",
    "  'switchport access vlan',\n",
    "  'switchport nonegotiate',\n",
    "  'spanning-tree portfast',\n",
    "  'spanning-tree bpduguard enable',\n",
    "  'switchport trunk encapsulation dot1q',\n",
    "  'switchport mode trunk',\n",
    "  'switchport trunk native vlan 999',\n",
    "  'switchport trunk allowed vlan']\n",
    "file.close()\n",
    "file = open(\"sw_templates.json\", 'w')\n",
    "json.dump(data, file, sort_keys=3, indent=0)\n",
    "\n",
    "\n",
    "file.close()"
   ]
  }
 ],
 "metadata": {
  "kernelspec": {
   "display_name": "Python 3",
   "language": "python",
   "name": "python3"
  },
  "language_info": {
   "codemirror_mode": {
    "name": "ipython",
    "version": 3
   },
   "file_extension": ".py",
   "mimetype": "text/x-python",
   "name": "python",
   "nbconvert_exporter": "python",
   "pygments_lexer": "ipython3",
   "version": "3.12.6"
  }
 },
 "nbformat": 4,
 "nbformat_minor": 2
}
